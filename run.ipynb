{
 "cells": [
  {
   "cell_type": "code",
   "execution_count": 1,
   "id": "a8bd8633-a7d6-451e-8c9c-77f41a4fb230",
   "metadata": {},
   "outputs": [],
   "source": [
    "!python run.py\n"
   ]
  }
 ],
 "metadata": {
  "kernelspec": {
   "display_name": "Python [conda env:CondaEnvironmentDetecter]",
   "language": "python",
   "name": "conda-env-CondaEnvironmentDetecter-py"
  },
  "language_info": {
   "codemirror_mode": {
    "name": "ipython",
    "version": 3
   },
   "file_extension": ".py",
   "mimetype": "text/x-python",
   "name": "python",
   "nbconvert_exporter": "python",
   "pygments_lexer": "ipython3",
   "version": "3.10.16"
  }
 },
 "nbformat": 4,
 "nbformat_minor": 5
}
